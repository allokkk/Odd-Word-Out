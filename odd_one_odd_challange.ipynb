{
  "nbformat": 4,
  "nbformat_minor": 0,
  "metadata": {
    "colab": {
      "name": "odd one odd challange.ipynb",
      "provenance": [],
      "authorship_tag": "ABX9TyNvEf1xPBFmxWNi3G1SDZFL",
      "include_colab_link": true
    },
    "kernelspec": {
      "name": "python3",
      "display_name": "Python 3"
    }
  },
  "cells": [
    {
      "cell_type": "markdown",
      "metadata": {
        "id": "view-in-github",
        "colab_type": "text"
      },
      "source": [
        "<a href=\"https://colab.research.google.com/github/allokkk/Odd-Word-Out/blob/master/odd_one_odd_challange.ipynb\" target=\"_parent\"><img src=\"https://colab.research.google.com/assets/colab-badge.svg\" alt=\"Open In Colab\"/></a>"
      ]
    },
    {
      "cell_type": "code",
      "metadata": {
        "id": "TpK4ggGEjZTR",
        "colab_type": "code",
        "colab": {}
      },
      "source": [
        "import gensim\n",
        "from gensim.models import word2vec\n",
        "from gensim.models import KeyedVectors\n",
        "from sklearn.metrics.pairwise import cosine_similarity\n",
        "import pandas as pd"
      ],
      "execution_count": 0,
      "outputs": []
    },
    {
      "cell_type": "code",
      "metadata": {
        "id": "yXPhENRfkzuk",
        "colab_type": "code",
        "outputId": "c6ec6d7d-bd28-49bc-a764-c87d54ddccc3",
        "colab": {
          "base_uri": "https://localhost:8080/",
          "height": 54
        }
      },
      "source": [
        "from google.colab import drive\n",
        "drive.mount('/content/gdrive')"
      ],
      "execution_count": 0,
      "outputs": [
        {
          "output_type": "stream",
          "text": [
            "Drive already mounted at /content/gdrive; to attempt to forcibly remount, call drive.mount(\"/content/gdrive\", force_remount=True).\n"
          ],
          "name": "stdout"
        }
      ]
    },
    {
      "cell_type": "code",
      "metadata": {
        "id": "7LfVGenjkmc8",
        "colab_type": "code",
        "outputId": "30408999-95cc-47b8-af4a-b0b217daa6c0",
        "colab": {
          "base_uri": "https://localhost:8080/",
          "height": 71
        }
      },
      "source": [
        "\n",
        "import numpy as np\n",
        "\n",
        "word_vectors = KeyedVectors.load_word2vec_format('/content/gdrive/My Drive/GoogleNews-vectors-negative300.bin.gz',binary=True)\n"
      ],
      "execution_count": 0,
      "outputs": [
        {
          "output_type": "stream",
          "text": [
            "/usr/local/lib/python3.6/dist-packages/smart_open/smart_open_lib.py:402: UserWarning: This function is deprecated, use smart_open.open instead. See the migration notes for details: https://github.com/RaRe-Technologies/smart_open/blob/master/README.rst#migrating-to-the-new-open-function\n",
            "  'See the migration notes for details: %s' % _MIGRATION_NOTES_URL\n"
          ],
          "name": "stderr"
        }
      ]
    },
    {
      "cell_type": "code",
      "metadata": {
        "id": "9VgARhL4ktUE",
        "colab_type": "code",
        "outputId": "8ab2d9a3-3732-45bb-879d-0c631809e125",
        "colab": {
          "base_uri": "https://localhost:8080/",
          "height": 377
        }
      },
      "source": [
        "! wget https://www.dropbox.com/s/59zqs3blmx3sgcq/Test%20-%20Odd%20one%20out%20Challange.csv?dl=0\n"
      ],
      "execution_count": 0,
      "outputs": [
        {
          "output_type": "stream",
          "text": [
            "--2020-02-08 08:17:04--  https://www.dropbox.com/s/59zqs3blmx3sgcq/Test%20-%20Odd%20one%20out%20Challange.csv?dl=0\n",
            "Resolving www.dropbox.com (www.dropbox.com)... 162.125.8.1, 2620:100:601b:1::a27d:801\n",
            "Connecting to www.dropbox.com (www.dropbox.com)|162.125.8.1|:443... connected.\n",
            "HTTP request sent, awaiting response... 301 Moved Permanently\n",
            "Location: /s/raw/59zqs3blmx3sgcq/Test%20-%20Odd%20one%20out%20Challange.csv [following]\n",
            "--2020-02-08 08:17:04--  https://www.dropbox.com/s/raw/59zqs3blmx3sgcq/Test%20-%20Odd%20one%20out%20Challange.csv\n",
            "Reusing existing connection to www.dropbox.com:443.\n",
            "HTTP request sent, awaiting response... 302 Found\n",
            "Location: https://uc52d5b3dfb7f99251ca795a91b4.dl.dropboxusercontent.com/cd/0/inline/Axs3Bn7LH48j_ryBQD36gPYhzzrXqwfJKh5ue0b2SKV5cbdxh_SrQETaDEQQ33tq3jfpd3_spaHpidHNqzfUFZVgCjasiNzidsTj9Znkgg-AHPhxu_vNoomvO9zKm5xXILo/file# [following]\n",
            "--2020-02-08 08:17:05--  https://uc52d5b3dfb7f99251ca795a91b4.dl.dropboxusercontent.com/cd/0/inline/Axs3Bn7LH48j_ryBQD36gPYhzzrXqwfJKh5ue0b2SKV5cbdxh_SrQETaDEQQ33tq3jfpd3_spaHpidHNqzfUFZVgCjasiNzidsTj9Znkgg-AHPhxu_vNoomvO9zKm5xXILo/file\n",
            "Resolving uc52d5b3dfb7f99251ca795a91b4.dl.dropboxusercontent.com (uc52d5b3dfb7f99251ca795a91b4.dl.dropboxusercontent.com)... 162.125.8.6, 2620:100:601b:6::a27d:806\n",
            "Connecting to uc52d5b3dfb7f99251ca795a91b4.dl.dropboxusercontent.com (uc52d5b3dfb7f99251ca795a91b4.dl.dropboxusercontent.com)|162.125.8.6|:443... connected.\n",
            "HTTP request sent, awaiting response... 200 OK\n",
            "Length: 654 [text/plain]\n",
            "Saving to: ‘Test - Odd one out Challange.csv?dl=0.2’\n",
            "\n",
            "\r          Test - Od   0%[                    ]       0  --.-KB/s               \rTest - Odd one out  100%[===================>]     654  --.-KB/s    in 0s      \n",
            "\n",
            "2020-02-08 08:17:05 (125 MB/s) - ‘Test - Odd one out Challange.csv?dl=0.2’ saved [654/654]\n",
            "\n"
          ],
          "name": "stdout"
        }
      ]
    },
    {
      "cell_type": "code",
      "metadata": {
        "id": "0Y0kP4A4lmst",
        "colab_type": "code",
        "colab": {}
      },
      "source": [
        "test_data=pd.read_csv(\"/content/Test - Odd one out Challange.csv?dl=0\")"
      ],
      "execution_count": 0,
      "outputs": []
    },
    {
      "cell_type": "markdown",
      "metadata": {
        "id": "6_oX7n1Tl7FM",
        "colab_type": "text"
      },
      "source": [
        "FIND ODD FUNCTION"
      ]
    },
    {
      "cell_type": "code",
      "metadata": {
        "id": "FuP6z-JMlyVr",
        "colab_type": "code",
        "colab": {}
      },
      "source": [
        "\n",
        "def odd_one_out2(words):\n",
        "    \"\"\"Accepts a list of words and returns the odd word\"\"\"\n",
        "    \n",
        "    # Generate all word embeddings for the given list\n",
        "    all_word_vectors = [word_vectors[w] for w in words]\n",
        "    avg_vector = np.mean(all_word_vectors,axis=0)\n",
        "    print(avg_vector.shape)\n",
        "    \n",
        "    #Iterate over every word and find similarity\n",
        "    odd_one_out = None\n",
        "    min_similarity = 1.0 #Very high value\n",
        "    \n",
        "    for w in words:\n",
        "        sim = cosine_similarity([word_vectors[w]],[avg_vector])\n",
        "        if sim < min_similarity:\n",
        "            min_similarity = sim\n",
        "            odd_one_out = w\n",
        "    \n",
        "        #print(\"Similairy btw %s and avg vector is %.2f\"%(w,sim))\n",
        "\n",
        "        \n",
        "            \n",
        "    return odd_one_out"
      ],
      "execution_count": 0,
      "outputs": []
    },
    {
      "cell_type": "code",
      "metadata": {
        "id": "kiZ7lY8hl-7L",
        "colab_type": "code",
        "outputId": "f3768779-0ea7-481d-ef2f-71b0a00f916d",
        "colab": {
          "base_uri": "https://localhost:8080/",
          "height": 34
        }
      },
      "source": [
        "test_data.shape"
      ],
      "execution_count": 0,
      "outputs": [
        {
          "output_type": "execute_result",
          "data": {
            "text/plain": [
              "(20, 5)"
            ]
          },
          "metadata": {
            "tags": []
          },
          "execution_count": 24
        }
      ]
    },
    {
      "cell_type": "code",
      "metadata": {
        "id": "kQ-fPJtNmgpN",
        "colab_type": "code",
        "outputId": "d3a370f4-2be4-4c90-fc79-311b57b3e490",
        "colab": {
          "base_uri": "https://localhost:8080/",
          "height": 421
        }
      },
      "source": [
        "test_data.head(n=12)"
      ],
      "execution_count": 0,
      "outputs": [
        {
          "output_type": "execute_result",
          "data": {
            "text/html": [
              "<div>\n",
              "<style scoped>\n",
              "    .dataframe tbody tr th:only-of-type {\n",
              "        vertical-align: middle;\n",
              "    }\n",
              "\n",
              "    .dataframe tbody tr th {\n",
              "        vertical-align: top;\n",
              "    }\n",
              "\n",
              "    .dataframe thead th {\n",
              "        text-align: right;\n",
              "    }\n",
              "</style>\n",
              "<table border=\"1\" class=\"dataframe\">\n",
              "  <thead>\n",
              "    <tr style=\"text-align: right;\">\n",
              "      <th></th>\n",
              "      <th>Word1</th>\n",
              "      <th>Word2</th>\n",
              "      <th>Word3</th>\n",
              "      <th>Word4</th>\n",
              "      <th>Word5</th>\n",
              "    </tr>\n",
              "  </thead>\n",
              "  <tbody>\n",
              "    <tr>\n",
              "      <th>0</th>\n",
              "      <td>elephant</td>\n",
              "      <td>lion</td>\n",
              "      <td>tiger</td>\n",
              "      <td>goat</td>\n",
              "      <td>snake</td>\n",
              "    </tr>\n",
              "    <tr>\n",
              "      <th>1</th>\n",
              "      <td>man</td>\n",
              "      <td>policeman</td>\n",
              "      <td>fireman</td>\n",
              "      <td>teacher</td>\n",
              "      <td>postman</td>\n",
              "    </tr>\n",
              "    <tr>\n",
              "      <th>2</th>\n",
              "      <td>plane</td>\n",
              "      <td>bird</td>\n",
              "      <td>rocket</td>\n",
              "      <td>balloon</td>\n",
              "      <td>cat</td>\n",
              "    </tr>\n",
              "    <tr>\n",
              "      <th>3</th>\n",
              "      <td>onion</td>\n",
              "      <td>celery</td>\n",
              "      <td>lettuce</td>\n",
              "      <td>pineapple</td>\n",
              "      <td>potato</td>\n",
              "    </tr>\n",
              "    <tr>\n",
              "      <th>4</th>\n",
              "      <td>India</td>\n",
              "      <td>football</td>\n",
              "      <td>hockey</td>\n",
              "      <td>cricket</td>\n",
              "      <td>swimming</td>\n",
              "    </tr>\n",
              "    <tr>\n",
              "      <th>5</th>\n",
              "      <td>who</td>\n",
              "      <td>why</td>\n",
              "      <td>what</td>\n",
              "      <td>where</td>\n",
              "      <td>is</td>\n",
              "    </tr>\n",
              "    <tr>\n",
              "      <th>6</th>\n",
              "      <td>on</td>\n",
              "      <td>in</td>\n",
              "      <td>over</td>\n",
              "      <td>their</td>\n",
              "      <td>was</td>\n",
              "    </tr>\n",
              "    <tr>\n",
              "      <th>7</th>\n",
              "      <td>India</td>\n",
              "      <td>Australia</td>\n",
              "      <td>Japan</td>\n",
              "      <td>Russia</td>\n",
              "      <td>China</td>\n",
              "    </tr>\n",
              "    <tr>\n",
              "      <th>8</th>\n",
              "      <td>Dollar</td>\n",
              "      <td>Rupees</td>\n",
              "      <td>Euros</td>\n",
              "      <td>Cents</td>\n",
              "      <td>Money</td>\n",
              "    </tr>\n",
              "    <tr>\n",
              "      <th>9</th>\n",
              "      <td>eat</td>\n",
              "      <td>sleep</td>\n",
              "      <td>drink</td>\n",
              "      <td>think</td>\n",
              "      <td>dance</td>\n",
              "    </tr>\n",
              "    <tr>\n",
              "      <th>10</th>\n",
              "      <td>car</td>\n",
              "      <td>scooter</td>\n",
              "      <td>bike</td>\n",
              "      <td>bicycle</td>\n",
              "      <td>ship</td>\n",
              "    </tr>\n",
              "    <tr>\n",
              "      <th>11</th>\n",
              "      <td>Poland</td>\n",
              "      <td>Russia</td>\n",
              "      <td>England</td>\n",
              "      <td>Rome</td>\n",
              "      <td>Ukraine</td>\n",
              "    </tr>\n",
              "  </tbody>\n",
              "</table>\n",
              "</div>"
            ],
            "text/plain": [
              "       Word1      Word2    Word3      Word4     Word5\n",
              "0   elephant       lion    tiger       goat     snake\n",
              "1        man  policeman  fireman    teacher   postman\n",
              "2      plane       bird   rocket    balloon       cat\n",
              "3      onion     celery  lettuce  pineapple    potato\n",
              "4      India   football   hockey    cricket  swimming\n",
              "5        who        why     what      where        is\n",
              "6         on         in     over      their       was\n",
              "7      India  Australia    Japan     Russia     China\n",
              "8     Dollar     Rupees    Euros      Cents     Money\n",
              "9        eat      sleep    drink      think     dance\n",
              "10       car    scooter     bike    bicycle      ship\n",
              "11    Poland     Russia  England       Rome   Ukraine"
            ]
          },
          "metadata": {
            "tags": []
          },
          "execution_count": 25
        }
      ]
    },
    {
      "cell_type": "code",
      "metadata": {
        "colab_type": "code",
        "outputId": "1a3698e6-f657-436f-99f5-288462cacc84",
        "id": "us5qKqaSmtvr",
        "colab": {
          "base_uri": "https://localhost:8080/",
          "height": 119
        }
      },
      "source": [
        "import numpy as np\n",
        "test_data.values\n",
        "row2=test_data.iloc[2,:]\n",
        "print(row2)"
      ],
      "execution_count": 0,
      "outputs": [
        {
          "output_type": "stream",
          "text": [
            "Word1      plane\n",
            "Word2       bird\n",
            "Word3     rocket\n",
            "Word4    balloon\n",
            "Word5        cat\n",
            "Name: 2, dtype: object\n"
          ],
          "name": "stdout"
        }
      ]
    },
    {
      "cell_type": "code",
      "metadata": {
        "id": "D7UXmgj9hAIp",
        "colab_type": "code",
        "outputId": "bab2c3e5-aad0-4d5a-9d5f-383ff8455677",
        "colab": {
          "base_uri": "https://localhost:8080/",
          "height": 153
        }
      },
      "source": [
        "print(row2) \n",
        "odd_one_out2(row2)"
      ],
      "execution_count": 0,
      "outputs": [
        {
          "output_type": "stream",
          "text": [
            "Word1      plane\n",
            "Word2       bird\n",
            "Word3     rocket\n",
            "Word4    balloon\n",
            "Word5        cat\n",
            "Name: 2, dtype: object\n",
            "(300,)\n"
          ],
          "name": "stdout"
        },
        {
          "output_type": "execute_result",
          "data": {
            "text/plain": [
              "'cat'"
            ]
          },
          "metadata": {
            "tags": []
          },
          "execution_count": 27
        }
      ]
    },
    {
      "cell_type": "code",
      "metadata": {
        "id": "NySVJ8cIxKi1",
        "colab_type": "code",
        "outputId": "f69a7a76-59b4-45cb-ca28-9cb3c5fc473f",
        "colab": {
          "base_uri": "https://localhost:8080/",
          "height": 357
        }
      },
      "source": [
        "l=[]\n",
        "for i in range(20):\n",
        "  rows=test_data.iloc[i,:]\n",
        "  r=odd_one_out2(rows)\n",
        "  l.append(r)\n"
      ],
      "execution_count": 0,
      "outputs": [
        {
          "output_type": "stream",
          "text": [
            "(300,)\n",
            "(300,)\n",
            "(300,)\n",
            "(300,)\n",
            "(300,)\n",
            "(300,)\n",
            "(300,)\n",
            "(300,)\n",
            "(300,)\n",
            "(300,)\n",
            "(300,)\n",
            "(300,)\n",
            "(300,)\n",
            "(300,)\n",
            "(300,)\n",
            "(300,)\n",
            "(300,)\n",
            "(300,)\n",
            "(300,)\n",
            "(300,)\n"
          ],
          "name": "stdout"
        }
      ]
    },
    {
      "cell_type": "code",
      "metadata": {
        "id": "5pbO1dfu04k8",
        "colab_type": "code",
        "outputId": "8e960181-5bcf-4d08-d766-d3e2e421e4ea",
        "colab": {
          "base_uri": "https://localhost:8080/",
          "height": 54
        }
      },
      "source": [
        "print(l)"
      ],
      "execution_count": 0,
      "outputs": [
        {
          "output_type": "stream",
          "text": [
            "['snake', 'teacher', 'cat', 'pineapple', 'India', 'is', 'was', 'Australia', 'Money', 'think', 'ship', 'Rome', 'Pool', 'Egypt', 'mouse', 'helmet', 'Universe', 'Kill', 'Club', 'Sun']\n"
          ],
          "name": "stdout"
        }
      ]
    },
    {
      "cell_type": "code",
      "metadata": {
        "id": "AxXGONTA07mX",
        "colab_type": "code",
        "colab": {}
      },
      "source": [
        "import csv\n",
        "with open('OddOneOut.csv', 'w', newline='') as file:\n",
        "    writer = csv.writer(file)\n",
        "    row_list=[\"OddOut\"]\n",
        "    writer.writerow(row_list)\n",
        "    for i in l:\n",
        "      row_item=[i]\n",
        "      writer.writerow(row_item) "
      ],
      "execution_count": 0,
      "outputs": []
    },
    {
      "cell_type": "code",
      "metadata": {
        "id": "rGecTRB_2vEo",
        "colab_type": "code",
        "outputId": "9bbaf824-c422-4d58-ce6c-a3de4d6a51e6",
        "colab": {
          "base_uri": "https://localhost:8080/",
          "height": 357
        }
      },
      "source": [
        "for j in l:\n",
        "  print(j)"
      ],
      "execution_count": 0,
      "outputs": [
        {
          "output_type": "stream",
          "text": [
            "snake\n",
            "teacher\n",
            "cat\n",
            "pineapple\n",
            "India\n",
            "is\n",
            "was\n",
            "Australia\n",
            "Money\n",
            "think\n",
            "ship\n",
            "Rome\n",
            "Pool\n",
            "Egypt\n",
            "mouse\n",
            "helmet\n",
            "Universe\n",
            "Kill\n",
            "Club\n",
            "Sun\n"
          ],
          "name": "stdout"
        }
      ]
    },
    {
      "cell_type": "code",
      "metadata": {
        "id": "d_CmPM762z3s",
        "colab_type": "code",
        "colab": {}
      },
      "source": [
        ""
      ],
      "execution_count": 0,
      "outputs": []
    }
  ]
}