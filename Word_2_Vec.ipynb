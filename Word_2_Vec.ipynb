{
  "nbformat": 4,
  "nbformat_minor": 0,
  "metadata": {
    "kernelspec": {
      "name": "python3",
      "display_name": "Python 3"
    },
    "language_info": {
      "codemirror_mode": {
        "name": "ipython",
        "version": 3
      },
      "file_extension": ".py",
      "mimetype": "text/x-python",
      "name": "python",
      "nbconvert_exporter": "python",
      "pygments_lexer": "ipython3",
      "version": "3.7.3"
    },
    "colab": {
      "name": "Word 2 Vec.ipynb",
      "provenance": [],
      "include_colab_link": true
    },
    "accelerator": "TPU"
  },
  "cells": [
    {
      "cell_type": "markdown",
      "metadata": {
        "id": "view-in-github",
        "colab_type": "text"
      },
      "source": [
        "<a href=\"https://colab.research.google.com/github/allokkk/Odd-Word-Out/blob/master/Word_2_Vec.ipynb\" target=\"_parent\"><img src=\"https://colab.research.google.com/assets/colab-badge.svg\" alt=\"Open In Colab\"/></a>"
      ]
    },
    {
      "cell_type": "markdown",
      "metadata": {
        "id": "-H5eE8Q4hAIE",
        "colab_type": "text"
      },
      "source": [
        "# Word2Vec Model\n",
        "Word2Vec Google's Pretrained Model\n",
        "Contains vector representations of 50 billion words\n",
        "\n",
        "Words which are similar in context have similar vectors\n",
        "\n",
        "Distance/Similarity between two words can be measured using Cosine Distance"
      ]
    },
    {
      "cell_type": "markdown",
      "metadata": {
        "id": "VanysETChAIH",
        "colab_type": "text"
      },
      "source": [
        "# Applications\n",
        "#### Text Similarity\n",
        "#### Language Translation\n",
        "#### Finding Odd Words\n",
        "#### Word Analogies"
      ]
    },
    {
      "cell_type": "markdown",
      "metadata": {
        "id": "NKGyIHKOhAII",
        "colab_type": "text"
      },
      "source": [
        "# Word Embeddings\n",
        "Word embeddings are numerical representation of words, in the form of vectors.\n",
        "\n",
        "Word2Vec Model represents each word as 300 Dimensional Vector\n",
        "\n",
        "In this tutorial we are going to see how to use pre-trained word2vec model.\n",
        "\n",
        "Model size is around 1.5 GB\n",
        "We will work using Gensim, which is popular NLP Package.\n",
        "Gensim's Word2Vec Model provides optimum implementation of"
      ]
    },
    {
      "cell_type": "markdown",
      "metadata": {
        "id": "ANhRivYkhAIJ",
        "colab_type": "text"
      },
      "source": [
        "# Word Embeddings\n",
        "Word embeddings are numerical representation of words, in the form of vectors.\n",
        "\n",
        "Word2Vec Model represents each word as 300 Dimensional Vector\n",
        "\n",
        "In this tutorial we are going to see how to use pre-trained word2vec model.\n",
        "\n",
        "Model size is around 1.5 GB\n",
        "We will work using Gensim, which is popular NLP Package.\n",
        "Gensim's Word2Vec Model provides optimum implementation of\n",
        "\n",
        "1) CBOW Model\n",
        "\n",
        "2) SkipGram Model\n",
        "\n",
        "Paper 1 Efficient Estimation of Word Representations in Vector Space\n",
        "\n",
        "Paper 2 Distributed Representations of Words and Phrases and their Compositionality"
      ]
    },
    {
      "cell_type": "markdown",
      "metadata": {
        "id": "XgS_QhJohAIK",
        "colab_type": "text"
      },
      "source": [
        "# Word2Vec using Gensim\n",
        "Link https://radimrehurek.com/gensim/models/word2vec.html"
      ]
    },
    {
      "cell_type": "markdown",
      "metadata": {
        "id": "4cpbix_xhAIL",
        "colab_type": "text"
      },
      "source": [
        "# CODE\n",
        "\n",
        "\n",
        "\n",
        "\n",
        "## Load Word2Vec Model\n",
        "\n",
        "KeyedVectors - This object essentially contains the mapping between words and embeddings. After training, it can be used directly to query those embeddings in various ways"
      ]
    },
    {
      "cell_type": "code",
      "metadata": {
        "id": "lO8GDWlthAIM",
        "colab_type": "code",
        "colab": {}
      },
      "source": [
        "import gensim\n",
        "from gensim.models import word2vec\n",
        "from gensim.models import KeyedVectors\n",
        "from sklearn.metrics.pairwise import cosine_similarity\n",
        "import pandas as pd"
      ],
      "execution_count": 0,
      "outputs": []
    },
    {
      "cell_type": "code",
      "metadata": {
        "id": "f0vWFseVhAIu",
        "colab_type": "code",
        "outputId": "fa8e1b57-7649-4fb5-f1fa-466d71dbd10f",
        "colab": {
          "base_uri": "https://localhost:8080/",
          "height": 122
        }
      },
      "source": [
        "from google.colab import drive\n",
        "drive.mount('/content/gdrive')"
      ],
      "execution_count": 0,
      "outputs": [
        {
          "output_type": "stream",
          "text": [
            "Go to this URL in a browser: https://accounts.google.com/o/oauth2/auth?client_id=947318989803-6bn6qk8qdgf4n4g3pfee6491hc0brc4i.apps.googleusercontent.com&redirect_uri=urn%3aietf%3awg%3aoauth%3a2.0%3aoob&response_type=code&scope=email%20https%3a%2f%2fwww.googleapis.com%2fauth%2fdocs.test%20https%3a%2f%2fwww.googleapis.com%2fauth%2fdrive%20https%3a%2f%2fwww.googleapis.com%2fauth%2fdrive.photos.readonly%20https%3a%2f%2fwww.googleapis.com%2fauth%2fpeopleapi.readonly\n",
            "\n",
            "Enter your authorization code:\n",
            "··········\n",
            "Mounted at /content/gdrive\n"
          ],
          "name": "stdout"
        }
      ]
    },
    {
      "cell_type": "code",
      "metadata": {
        "id": "UDototm1hAIQ",
        "colab_type": "code",
        "outputId": "44144e2d-c1b4-435c-dad6-66fcea9508a7",
        "colab": {
          "base_uri": "https://localhost:8080/",
          "height": 71
        }
      },
      "source": [
        "\n",
        "import numpy as np\n",
        "\n",
        "word_vectors = KeyedVectors.load_word2vec_format('/content/gdrive/My Drive/GoogleNews-vectors-negative300.bin.gz',binary=True)\n"
      ],
      "execution_count": 0,
      "outputs": [
        {
          "output_type": "stream",
          "text": [
            "/usr/local/lib/python3.6/dist-packages/smart_open/smart_open_lib.py:402: UserWarning: This function is deprecated, use smart_open.open instead. See the migration notes for details: https://github.com/RaRe-Technologies/smart_open/blob/master/README.rst#migrating-to-the-new-open-function\n",
            "  'See the migration notes for details: %s' % _MIGRATION_NOTES_URL\n"
          ],
          "name": "stderr"
        }
      ]
    },
    {
      "cell_type": "code",
      "metadata": {
        "id": "OvTZUp8qSsmh",
        "colab_type": "code",
        "colab": {}
      },
      "source": [
        "v_apple=word_vectors[\"Apple\"]\n",
        "v_mango=word_vectors[\"Mango\"]"
      ],
      "execution_count": 0,
      "outputs": []
    },
    {
      "cell_type": "code",
      "metadata": {
        "id": "7-rJXQ9dnJX7",
        "colab_type": "code",
        "outputId": "26ccb99c-9936-45cb-cc36-fc9d1f9c37d3",
        "colab": {
          "base_uri": "https://localhost:8080/",
          "height": 68
        }
      },
      "source": [
        "print(v_apple.shape)\n",
        "print(v_mango.shape)\n",
        "\n",
        "\n",
        "\n",
        "cosine_similarity([v_mango],[v_apple])\n",
        "\n"
      ],
      "execution_count": 0,
      "outputs": [
        {
          "output_type": "stream",
          "text": [
            "(300,)\n",
            "(300,)\n"
          ],
          "name": "stdout"
        },
        {
          "output_type": "execute_result",
          "data": {
            "text/plain": [
              "array([[0.2475584]], dtype=float32)"
            ]
          },
          "metadata": {
            "tags": []
          },
          "execution_count": 6
        }
      ]
    },
    {
      "cell_type": "code",
      "metadata": {
        "id": "ACLPrd9rhAIc",
        "colab_type": "code",
        "outputId": "4f44d0de-3779-4100-8efb-9276050bd45d",
        "colab": {
          "base_uri": "https://localhost:8080/",
          "height": 34
        }
      },
      "source": [
        "v_apple = word_vectors[\"apple\"] \n",
        "v_mango = word_vectors[\"india\"]\n",
        "\n",
        "cosine_similarity([v_mango],[v_apple])"
      ],
      "execution_count": 0,
      "outputs": [
        {
          "output_type": "execute_result",
          "data": {
            "text/plain": [
              "array([[0.17158596]], dtype=float32)"
            ]
          },
          "metadata": {
            "tags": []
          },
          "execution_count": 7
        }
      ]
    },
    {
      "cell_type": "code",
      "metadata": {
        "id": "h2xmXYEphAIT",
        "colab_type": "code",
        "colab": {}
      },
      "source": [
        ""
      ],
      "execution_count": 0,
      "outputs": []
    },
    {
      "cell_type": "code",
      "metadata": {
        "id": "PSaBY-UrhAIV",
        "colab_type": "code",
        "colab": {}
      },
      "source": [
        ""
      ],
      "execution_count": 0,
      "outputs": []
    },
    {
      "cell_type": "markdown",
      "metadata": {
        "id": "wX9VqAOShAIi",
        "colab_type": "text"
      },
      "source": [
        "# Find ODD"
      ]
    },
    {
      "cell_type": "code",
      "metadata": {
        "id": "AdGyIRCWhAIj",
        "colab_type": "code",
        "colab": {}
      },
      "source": [
        "\n",
        "def odd_one_out(words):\n",
        "    \"\"\"Accepts a list of words and returns the odd word\"\"\"\n",
        "    \n",
        "    # Generate all word embeddings for the given list\n",
        "    all_word_vectors = [word_vectors[w] for w in words]\n",
        "    avg_vector = np.mean(all_word_vectors,axis=0)\n",
        "    print(avg_vector.shape)\n",
        "    \n",
        "    #Iterate over every word and find similarity\n",
        "    odd_one_out = None\n",
        "    min_similarity = 1.0 #Very high value\n",
        "    \n",
        "    for w in words:\n",
        "        sim = cosine_similarity([word_vectors[w]],[avg_vector])\n",
        "        if sim < min_similarity:\n",
        "            min_similarity = sim\n",
        "            odd_one_out = w\n",
        "    \n",
        "        print(\"Similairy btw %s and avg vector is %.2f\"%(w,sim))\n",
        "\n",
        "        \n",
        "            \n",
        "    return odd_one_out"
      ],
      "execution_count": 0,
      "outputs": []
    },
    {
      "cell_type": "code",
      "metadata": {
        "id": "uN5FbeY7hAIn",
        "colab_type": "code",
        "colab": {}
      },
      "source": [
        "input_1 = [\"apple\",\"mango\",\"juice\",\"party\",\"orange\"] \n",
        "input_2 = [\"music\",\"dance\",\"sleep\",\"dancer\",\"food\"]        \n",
        "input_3  = [\"match\",\"player\",\"football\",\"cricket\",\"dancer\"]\n",
        "input_4 = [\"india\",\"paris\",\"russia\",\"france\",\"germany\"]"
      ],
      "execution_count": 0,
      "outputs": []
    },
    {
      "cell_type": "code",
      "metadata": {
        "id": "D7UXmgj9hAIp",
        "colab_type": "code",
        "outputId": "f1e115cb-585b-45ca-ca27-eb797bde0ccc",
        "colab": {
          "base_uri": "https://localhost:8080/",
          "height": 136
        }
      },
      "source": [
        "\n",
        "odd_one_out(input_1)"
      ],
      "execution_count": 0,
      "outputs": [
        {
          "output_type": "stream",
          "text": [
            "(300,)\n",
            "Similairy btw apple and avg vector is 0.78\n",
            "Similairy btw mango and avg vector is 0.76\n",
            "Similairy btw juice and avg vector is 0.71\n",
            "Similairy btw party and avg vector is 0.36\n",
            "Similairy btw orange and avg vector is 0.65\n"
          ],
          "name": "stdout"
        },
        {
          "output_type": "execute_result",
          "data": {
            "text/plain": [
              "'party'"
            ]
          },
          "metadata": {
            "tags": []
          },
          "execution_count": 10
        }
      ]
    },
    {
      "cell_type": "code",
      "metadata": {
        "id": "LtNL9xgSrFYy",
        "colab_type": "code",
        "outputId": "83382dd5-5531-42e5-f614-59d58ed14486",
        "colab": {
          "base_uri": "https://localhost:8080/",
          "height": 136
        }
      },
      "source": [
        "odd_one_out(input_2)"
      ],
      "execution_count": 0,
      "outputs": [
        {
          "output_type": "stream",
          "text": [
            "(300,)\n",
            "Similairy btw music and avg vector is 0.66\n",
            "Similairy btw dance and avg vector is 0.81\n",
            "Similairy btw sleep and avg vector is 0.51\n",
            "Similairy btw dancer and avg vector is 0.72\n",
            "Similairy btw food and avg vector is 0.52\n"
          ],
          "name": "stdout"
        },
        {
          "output_type": "execute_result",
          "data": {
            "text/plain": [
              "'sleep'"
            ]
          },
          "metadata": {
            "tags": []
          },
          "execution_count": 11
        }
      ]
    },
    {
      "cell_type": "code",
      "metadata": {
        "id": "9aSn-5rerSY9",
        "colab_type": "code",
        "outputId": "1aebe9ba-5422-44d4-e69f-0c3c1368d7ed",
        "colab": {
          "base_uri": "https://localhost:8080/",
          "height": 136
        }
      },
      "source": [
        "odd_one_out(input_3)"
      ],
      "execution_count": 0,
      "outputs": [
        {
          "output_type": "stream",
          "text": [
            "(300,)\n",
            "Similairy btw match and avg vector is 0.58\n",
            "Similairy btw player and avg vector is 0.68\n",
            "Similairy btw football and avg vector is 0.72\n",
            "Similairy btw cricket and avg vector is 0.70\n",
            "Similairy btw dancer and avg vector is 0.53\n"
          ],
          "name": "stdout"
        },
        {
          "output_type": "execute_result",
          "data": {
            "text/plain": [
              "'dancer'"
            ]
          },
          "metadata": {
            "tags": []
          },
          "execution_count": 12
        }
      ]
    },
    {
      "cell_type": "code",
      "metadata": {
        "id": "wVOEF0qCrVBb",
        "colab_type": "code",
        "outputId": "f6ce7690-f4f1-4139-b990-ddb3d0360fb6",
        "colab": {
          "base_uri": "https://localhost:8080/",
          "height": 136
        }
      },
      "source": [
        "odd_one_out(input_4)"
      ],
      "execution_count": 0,
      "outputs": [
        {
          "output_type": "stream",
          "text": [
            "(300,)\n",
            "Similairy btw india and avg vector is 0.81\n",
            "Similairy btw paris and avg vector is 0.75\n",
            "Similairy btw russia and avg vector is 0.79\n",
            "Similairy btw france and avg vector is 0.81\n",
            "Similairy btw germany and avg vector is 0.84\n"
          ],
          "name": "stdout"
        },
        {
          "output_type": "execute_result",
          "data": {
            "text/plain": [
              "'paris'"
            ]
          },
          "metadata": {
            "tags": []
          },
          "execution_count": 13
        }
      ]
    },
    {
      "cell_type": "markdown",
      "metadata": {
        "id": "Lkmei6ZJs9jP",
        "colab_type": "text"
      },
      "source": [
        "### 2. Word Analogies Task"
      ]
    },
    {
      "cell_type": "markdown",
      "metadata": {
        "id": "V5SZXJhitLIg",
        "colab_type": "text"
      },
      "source": [
        "In the word analogy task, we complete the sentence \"a is to b as c is to __\". An example is 'man is to woman as king is to queen' . In detail, we are trying to find a word d, such that the associated word vectors `ea,eb,ec,ed` are related in the following manner: `eb−ea≈ed−ec`. We will measure the similarity between `eb−ea` and `ed−ec` using cosine similarity. "
      ]
    },
    {
      "cell_type": "markdown",
      "metadata": {
        "id": "lIIUs9ISugig",
        "colab_type": "text"
      },
      "source": [
        "`man -> woman :: \tprince -> princess`  \n",
        "`italy -> italian :: \tspain -> spanish`  \n",
        "`india -> delhi :: \tjapan -> tokyo`  \n",
        "`man -> woman :: \tboy -> girl`  \n",
        "`small -> smaller :: \tlarge -> larger`  \n",
        "\n",
        "#### Try it out \n",
        "\n",
        "\n",
        "`man -> coder :: woman -> ______?`"
      ]
    },
    {
      "cell_type": "code",
      "metadata": {
        "id": "GZQDrZWZtMR0",
        "colab_type": "code",
        "outputId": "07446181-4835-4cd7-b65d-4a8d81e1303c",
        "colab": {
          "base_uri": "https://localhost:8080/",
          "height": 34
        }
      },
      "source": [
        "word_vectors[\"man\"].shape "
      ],
      "execution_count": 0,
      "outputs": [
        {
          "output_type": "execute_result",
          "data": {
            "text/plain": [
              "(300,)"
            ]
          },
          "metadata": {
            "tags": []
          },
          "execution_count": 14
        }
      ]
    },
    {
      "cell_type": "code",
      "metadata": {
        "id": "53VIYvkRuntw",
        "colab_type": "code",
        "colab": {}
      },
      "source": [
        "def predict_word(a,b,c,word_vectors):\n",
        "    \"\"\"Accepts a triad of words, a,b,c and returns d such that a is to b : c is to d\"\"\"\n",
        "    a,b,c = a.lower(),b.lower(),c.lower()\n",
        "    \n",
        "    # similarity |b-a| = |d-c| should be max\n",
        "    max_similarity = -100 \n",
        "    \n",
        "    d = None\n",
        "    \n",
        "    words = word_vectors.vocab.keys()\n",
        "    \n",
        "    wa,wb,wc = word_vectors[a],word_vectors[b],word_vectors[c]\n",
        "    \n",
        "    #to find d s.t similarity(|b-a|,|d-c|) should be max\n",
        "    \n",
        "    for w in words:\n",
        "        if w in [a,b,c]:\n",
        "            continue\n",
        "        \n",
        "        wv = word_vectors[w]\n",
        "        sim = cosine_similarity([wb-wa],[wv-wc])\n",
        "        \n",
        "        if sim > max_similarity:\n",
        "            max_similarity = sim\n",
        "            d = w\n",
        "            \n",
        "    return d    "
      ],
      "execution_count": 0,
      "outputs": []
    },
    {
      "cell_type": "code",
      "metadata": {
        "id": "pWmYpJrbusil",
        "colab_type": "code",
        "outputId": "70b40ded-f07b-4fb7-8be6-c13f2c3818be",
        "colab": {
          "base_uri": "https://localhost:8080/",
          "height": 34
        }
      },
      "source": [
        "triad_2 = (\"man\",\"woman\",\"prince\")\n",
        "predict_word(*triad_2,word_vectors)\n",
        "\n"
      ],
      "execution_count": 0,
      "outputs": [
        {
          "output_type": "execute_result",
          "data": {
            "text/plain": [
              "'princess'"
            ]
          },
          "metadata": {
            "tags": []
          },
          "execution_count": 16
        }
      ]
    },
    {
      "cell_type": "markdown",
      "metadata": {
        "id": "W8tmKaKOwnyq",
        "colab_type": "text"
      },
      "source": [
        "## Using the Most Similar Method"
      ]
    },
    {
      "cell_type": "code",
      "metadata": {
        "id": "vfJUPzIruwxu",
        "colab_type": "code",
        "outputId": "272637d4-c2e5-4712-ecaa-daa7545da480",
        "colab": {
          "base_uri": "https://localhost:8080/",
          "height": 88
        }
      },
      "source": [
        "word_vectors.most_similar(positive=['woman', 'king'], negative=['man'], topn=1)"
      ],
      "execution_count": 0,
      "outputs": [
        {
          "output_type": "stream",
          "text": [
            "/usr/local/lib/python3.6/dist-packages/gensim/matutils.py:737: FutureWarning: Conversion of the second argument of issubdtype from `int` to `np.signedinteger` is deprecated. In future, it will be treated as `np.int64 == np.dtype(int).type`.\n",
            "  if np.issubdtype(vec.dtype, np.int):\n"
          ],
          "name": "stderr"
        },
        {
          "output_type": "execute_result",
          "data": {
            "text/plain": [
              "[('queen', 0.7118192911148071)]"
            ]
          },
          "metadata": {
            "tags": []
          },
          "execution_count": 17
        }
      ]
    },
    {
      "cell_type": "markdown",
      "metadata": {
        "id": "nFzbry-616uG",
        "colab_type": "text"
      },
      "source": [
        "Data Preparation¶"
      ]
    },
    {
      "cell_type": "markdown",
      "metadata": {
        "id": "j52ncvUT1_N1",
        "colab_type": "text"
      },
      "source": [
        ""
      ]
    },
    {
      "cell_type": "markdown",
      "metadata": {
        "id": "k6SlO46v1-3R",
        "colab_type": "text"
      },
      "source": [
        "Each sentence must be tokenized, into a list of words.\n",
        "\n",
        "The sentences can be text loaded into memory once, or we can build a data pipeline which iteratively feeds data to the model."
      ]
    },
    {
      "cell_type": "code",
      "metadata": {
        "id": "kOWPLR-LzK_L",
        "colab_type": "code",
        "colab": {}
      },
      "source": [
        "import nltk\n",
        "from nltk.corpus import stopwords"
      ],
      "execution_count": 0,
      "outputs": []
    },
    {
      "cell_type": "code",
      "metadata": {
        "id": "tAsp-i6o2DaK",
        "colab_type": "code",
        "colab": {}
      },
      "source": [
        "import nltk\n",
        "from nltk.corpus import stopwords"
      ],
      "execution_count": 0,
      "outputs": []
    },
    {
      "cell_type": "code",
      "metadata": {
        "id": "j2XMocAx3plg",
        "colab_type": "code",
        "outputId": "45d0a769-1fdc-485f-ebac-3f8fcff7b31a",
        "colab": {
          "base_uri": "https://localhost:8080/",
          "height": 445
        }
      },
      "source": [
        "!wget https://www.dropbox.com/s/s1mcc8win027qww/bollywood.rar?dl=0"
      ],
      "execution_count": 0,
      "outputs": [
        {
          "output_type": "stream",
          "text": [
            "--2020-01-05 18:35:53--  https://www.dropbox.com/s/s1mcc8win027qww/bollywood.rar?dl=0\n",
            "Resolving www.dropbox.com (www.dropbox.com)... 162.125.8.1, 2620:100:6018:1::a27d:301\n",
            "Connecting to www.dropbox.com (www.dropbox.com)|162.125.8.1|:443... connected.\n",
            "HTTP request sent, awaiting response... 301 Moved Permanently\n",
            "Location: /s/raw/s1mcc8win027qww/bollywood.rar [following]\n",
            "--2020-01-05 18:35:53--  https://www.dropbox.com/s/raw/s1mcc8win027qww/bollywood.rar\n",
            "Reusing existing connection to www.dropbox.com:443.\n",
            "HTTP request sent, awaiting response... 302 Found\n",
            "Location: https://uc98a9e20ad599485ad87076d0f3.dl.dropboxusercontent.com/cd/0/inline/AvmykWhN-jjMjppuI_NQbaLsreImtmj0lOgHi-rIaEgscjTT2BtBAv4aLY5_BD8Qpr9XpehQDfYmt_YeTOjE-VUXMpvklPBORWBd-AwJy5GF21GplaxF7_ezyOIkEmtoO1E/file# [following]\n",
            "--2020-01-05 18:35:53--  https://uc98a9e20ad599485ad87076d0f3.dl.dropboxusercontent.com/cd/0/inline/AvmykWhN-jjMjppuI_NQbaLsreImtmj0lOgHi-rIaEgscjTT2BtBAv4aLY5_BD8Qpr9XpehQDfYmt_YeTOjE-VUXMpvklPBORWBd-AwJy5GF21GplaxF7_ezyOIkEmtoO1E/file\n",
            "Resolving uc98a9e20ad599485ad87076d0f3.dl.dropboxusercontent.com (uc98a9e20ad599485ad87076d0f3.dl.dropboxusercontent.com)... 162.125.8.6, 2620:100:601b:6::a27d:806\n",
            "Connecting to uc98a9e20ad599485ad87076d0f3.dl.dropboxusercontent.com (uc98a9e20ad599485ad87076d0f3.dl.dropboxusercontent.com)|162.125.8.6|:443... connected.\n",
            "HTTP request sent, awaiting response... 302 FOUND\n",
            "Location: /cd/0/inline2/AvkHBVhd-AZn7XiAQ-W8aZVPWrnUswYWkDFt6BQ9_ksoEUWKu2ix4bQhuRZq7NU7duaAprn48pJFuNMPPMDedvwgkZDSRm0CvJaHzKAL7KlnG39b7hcugo6KUHj59Je1gWAiTmUe3xca45NUCFA1HieYAt7HGLsUoDQKI9cskteXWMIp_WKETtDtrilN0KIfbi0CopsW_-zhr2Ncah67YHDzjbM5OM_ADspQ4kdOikGQKE9crSUZj_ox8viw78gSx6tlcvPMTSENAxw2-sTRwiQxa_sqMIlgSjdzJkyIuFq7Mh2bHgeukGYH28sertGIg5YbouzQhg5ElHMiXiNpmkO3mWV1oAC69rIfkQW7teaqYA/file [following]\n",
            "--2020-01-05 18:35:53--  https://uc98a9e20ad599485ad87076d0f3.dl.dropboxusercontent.com/cd/0/inline2/AvkHBVhd-AZn7XiAQ-W8aZVPWrnUswYWkDFt6BQ9_ksoEUWKu2ix4bQhuRZq7NU7duaAprn48pJFuNMPPMDedvwgkZDSRm0CvJaHzKAL7KlnG39b7hcugo6KUHj59Je1gWAiTmUe3xca45NUCFA1HieYAt7HGLsUoDQKI9cskteXWMIp_WKETtDtrilN0KIfbi0CopsW_-zhr2Ncah67YHDzjbM5OM_ADspQ4kdOikGQKE9crSUZj_ox8viw78gSx6tlcvPMTSENAxw2-sTRwiQxa_sqMIlgSjdzJkyIuFq7Mh2bHgeukGYH28sertGIg5YbouzQhg5ElHMiXiNpmkO3mWV1oAC69rIfkQW7teaqYA/file\n",
            "Reusing existing connection to uc98a9e20ad599485ad87076d0f3.dl.dropboxusercontent.com:443.\n",
            "HTTP request sent, awaiting response... 200 OK\n",
            "Length: 979 [application/rar]\n",
            "Saving to: ‘bollywood.rar?dl=0.1’\n",
            "\n",
            "bollywood.rar?dl=0. 100%[===================>]     979  --.-KB/s    in 0s      \n",
            "\n",
            "2020-01-05 18:35:54 (180 MB/s) - ‘bollywood.rar?dl=0.1’ saved [979/979]\n",
            "\n"
          ],
          "name": "stdout"
        }
      ]
    },
    {
      "cell_type": "code",
      "metadata": {
        "id": "4J6dUR_T7N1L",
        "colab_type": "code",
        "outputId": "d9a158cc-cd06-402d-956d-9adf3e3c2d7f",
        "colab": {
          "base_uri": "https://localhost:8080/",
          "height": 170
        }
      },
      "source": [
        "!unzip bollywood.rar?dl=0"
      ],
      "execution_count": 0,
      "outputs": [
        {
          "output_type": "stream",
          "text": [
            "Archive:  bollywood.rar?dl=0\n",
            "  End-of-central-directory signature not found.  Either this file is not\n",
            "  a zipfile, or it constitutes one disk of a multi-part archive.  In the\n",
            "  latter case the central directory and zipfile comment will be found on\n",
            "  the last disk(s) of this archive.\n",
            "unzip:  cannot find zipfile directory in one of bollywood.rar?dl=0 or\n",
            "        bollywood.rar?dl=0.zip, and cannot find bollywood.rar?dl=0.ZIP, period.\n",
            "\n",
            "No zipfiles found.\n"
          ],
          "name": "stdout"
        }
      ]
    },
    {
      "cell_type": "code",
      "metadata": {
        "id": "NrJk-RVH2Gpi",
        "colab_type": "code",
        "colab": {}
      },
      "source": [
        "def readFile(file): \n",
        "    f = open(file,'r',encoding='utf-8')\n",
        "    text = f.read()\n",
        "    sentences = nltk.sent_tokenize(text)\n",
        "    \n",
        "    data = []\n",
        "    for sent in sentences:\n",
        "        words =  nltk.word_tokenize(sent)\n",
        "        words = [w.lower() for w in words if len(w)>2 and w not in stopw]\n",
        "        data.append(words)\n",
        "        \n",
        "    return data\n"
      ],
      "execution_count": 0,
      "outputs": []
    },
    {
      "cell_type": "code",
      "metadata": {
        "id": "qm36aFpr_YnX",
        "colab_type": "code",
        "outputId": "986b0e52-d52b-4033-ab5a-52bf9877817c",
        "colab": {
          "base_uri": "https://localhost:8080/",
          "height": 68
        }
      },
      "source": [
        "import nltk\n",
        "nltk.download('punkt')"
      ],
      "execution_count": 0,
      "outputs": [
        {
          "output_type": "stream",
          "text": [
            "[nltk_data] Downloading package punkt to /root/nltk_data...\n",
            "[nltk_data]   Package punkt is already up-to-date!\n"
          ],
          "name": "stdout"
        },
        {
          "output_type": "execute_result",
          "data": {
            "text/plain": [
              "True"
            ]
          },
          "metadata": {
            "tags": []
          },
          "execution_count": 67
        }
      ]
    },
    {
      "cell_type": "code",
      "metadata": {
        "id": "l35-c8qv_sqK",
        "colab_type": "code",
        "outputId": "5fcab801-f619-4216-ad33-ee289c50a5af",
        "colab": {
          "base_uri": "https://localhost:8080/",
          "height": 51
        }
      },
      "source": [
        "import nltk\n",
        "nltk.download(\"stopwords\")\n",
        "stopw  = set(stopwords.words('english'))"
      ],
      "execution_count": 0,
      "outputs": [
        {
          "output_type": "stream",
          "text": [
            "[nltk_data] Downloading package stopwords to /root/nltk_data...\n",
            "[nltk_data]   Package stopwords is already up-to-date!\n"
          ],
          "name": "stdout"
        }
      ]
    },
    {
      "cell_type": "code",
      "metadata": {
        "id": "RGgLlitd7VLF",
        "colab_type": "code",
        "outputId": "41e82e5b-4d81-4295-c328-bc0ab7864dfc",
        "colab": {
          "base_uri": "https://localhost:8080/",
          "height": 51
        }
      },
      "source": [
        "!ls"
      ],
      "execution_count": 0,
      "outputs": [
        {
          "output_type": "stream",
          "text": [
            "'bollywood.rar?dl=0'\t'bollywood.txt?dl=0'   sample_data\n",
            "'bollywood.rar?dl=0.1'\t gdrive\n"
          ],
          "name": "stdout"
        }
      ]
    },
    {
      "cell_type": "code",
      "metadata": {
        "id": "s6sl4K7P71X7",
        "colab_type": "code",
        "colab": {}
      },
      "source": [
        "path=\"/content/bollywood.txt?dl=0\""
      ],
      "execution_count": 0,
      "outputs": []
    },
    {
      "cell_type": "code",
      "metadata": {
        "id": "xEqlm8Bt8BhO",
        "colab_type": "code",
        "colab": {}
      },
      "source": [
        "text = readFile(path)"
      ],
      "execution_count": 0,
      "outputs": []
    },
    {
      "cell_type": "code",
      "metadata": {
        "id": "Zh7ajphnAYXm",
        "colab_type": "code",
        "outputId": "d3fb8f85-da05-444c-8f16-a5720c4af8f3",
        "colab": {
          "base_uri": "https://localhost:8080/",
          "height": 54
        }
      },
      "source": [
        "print(text)"
      ],
      "execution_count": 0,
      "outputs": [
        {
          "output_type": "stream",
          "text": [
            "[['deepika', 'padukone', 'ranveer', 'singh', 'wedding', 'one', 'biggest', 'bollywood', 'events', 'happened', '2018'], ['the', 'deepika', 'ranveer', 'celebrations', 'hooked', 'phones', 'waiting', 'come', 'also', 'gave', 'enough', 'reason', 'believe', 'stylish', 'two', 'couple'], ['from', 'airport', 'looks', 'reception', 'parties', 'everything', 'entire', 'timeline', 'deepika', 'ranveer', 'wedding', 'style', 'file'], ['not', 'ambanis', 'deepika', 'ranveer', 'priyanka', 'nick'], ['man', 'proves', 'wedding', 'the', 'year', 'this', 'year', 'year', 'big', 'fat', 'lavish', 'extravagant', 'weddings'], ['from', 'isha', 'ambani', 'anand', 'piramal', 'deepika', 'padukone', 'ranveer', 'singh', 'priyanka', 'chopra', 'nick', 'jonas', 'kapil', 'sharma', 'ginni', 'chatrath', '2018', 'saw', 'many', 'grand', 'weddings'], ['but', 'nothing', 'beats', 'man', 'wedding', 'the', 'year', 'award', 'social', 'media'], ['priyanka', 'also', 'shared', 'video', 'featuring', 'nick', 'jonaswas', 'also', 'celebrating', 'the', 'family', 'first', 'celebrated', 'christmas', 'london', 'pictures', 'priyanka', 'chopra', 'nick', 'jonas', 'new', 'year', 'celebrations', 'outstanding'], ['priyanka', 'chopra', 'nick', 'shared', 'glimpses', 'celebration', 'verbier', 'switzerland'], ['priyanka', 'chopra', 'married', 'nick', 'jonas', 'december', 'three', 'wedding', 'receptions', 'one', 'new', 'delhi', 'two', 'mumbai'], ['this', 'year', 'year', 'big', 'fat', 'lavish', 'extravagant', 'weddings'], ['from', 'isha', 'ambani', 'anand', 'piramal', 'deepika', 'padukone', 'ranveer', 'singh', 'priyanka', 'chopra', 'nick', 'jonas', 'kapil', 'sharma', 'ginni', 'chatrath', '2018', 'saw', 'many', 'grand', 'weddings'], ['but', 'nothing', 'beats', 'man', 'wedding', 'the', 'year', 'award', 'social', 'media'], ['kapil', 'sharma', 'ginni', 'chatrath', 'jaggo', 'night', 'december', 'made', 'even', 'special', 'industry', 'friends'], ['kapil', 'sharma', 'ginni', 'chatrath', 'friends', 'long', 'time'], ['there', 'virat', 'side', 'actress', 'wife', 'anushka', 'sharma', 'pleasure', 'audience'], ['while', 'couple', 'rang', 'new', 'year', 'style', 'morning', 'saw', 'virat', 'dress', 'squad', 'attire', 'anushka', 'pink', 'salwar', 'suit'], ['isha', 'ambani', 'married', 'anand', 'piramal', 'year']]\n"
          ],
          "name": "stdout"
        }
      ]
    },
    {
      "cell_type": "code",
      "metadata": {
        "id": "8Ka_fMsyBFXT",
        "colab_type": "code",
        "colab": {}
      },
      "source": [
        "\n",
        "from gensim.models import Word2Vec"
      ],
      "execution_count": 0,
      "outputs": []
    },
    {
      "cell_type": "code",
      "metadata": {
        "id": "mZXyUfWMBKTk",
        "colab_type": "code",
        "colab": {}
      },
      "source": [
        "model = Word2Vec(text,size=300,window=10,min_count=1)"
      ],
      "execution_count": 0,
      "outputs": []
    },
    {
      "cell_type": "code",
      "metadata": {
        "id": "vwF2rCc2BNHN",
        "colab_type": "code",
        "outputId": "21f96ad5-8a9f-4c79-b300-df1fa9d7c965",
        "colab": {
          "base_uri": "https://localhost:8080/",
          "height": 34
        }
      },
      "source": [
        "print(model)"
      ],
      "execution_count": 0,
      "outputs": [
        {
          "output_type": "stream",
          "text": [
            "Word2Vec(vocab=116, size=300, alpha=0.025)\n"
          ],
          "name": "stdout"
        }
      ]
    },
    {
      "cell_type": "code",
      "metadata": {
        "id": "TWbeo7klBTex",
        "colab_type": "code",
        "outputId": "0a7bb7d2-4725-4412-8412-93aed85da533",
        "colab": {
          "base_uri": "https://localhost:8080/",
          "height": 445
        }
      },
      "source": [
        "!wget https://www.dropbox.com/s/irxlasnb14jodj5/bollywood.bin?dl=0"
      ],
      "execution_count": 0,
      "outputs": [
        {
          "output_type": "stream",
          "text": [
            "--2020-01-05 18:59:26--  https://www.dropbox.com/s/irxlasnb14jodj5/bollywood.bin?dl=0\n",
            "Resolving www.dropbox.com (www.dropbox.com)... 162.125.8.1, 2620:100:601b:1::a27d:801\n",
            "Connecting to www.dropbox.com (www.dropbox.com)|162.125.8.1|:443... connected.\n",
            "HTTP request sent, awaiting response... 301 Moved Permanently\n",
            "Location: /s/raw/irxlasnb14jodj5/bollywood.bin [following]\n",
            "--2020-01-05 18:59:26--  https://www.dropbox.com/s/raw/irxlasnb14jodj5/bollywood.bin\n",
            "Reusing existing connection to www.dropbox.com:443.\n",
            "HTTP request sent, awaiting response... 302 Found\n",
            "Location: https://uc5e048f535733c7dca7d7df55a1.dl.dropboxusercontent.com/cd/0/inline/AvlsAHx10ZyKWYfwnJKtr2WR8KsRMW8sW11WFaTNtvraETipwj8IbwYG5hx-vqPeb3Oygi6UIufHJwbumOEs9Qbo5Omd9IFdOEM7qWWCYatDKW0j346MwL4pJpqIQq9GdUc/file# [following]\n",
            "--2020-01-05 18:59:26--  https://uc5e048f535733c7dca7d7df55a1.dl.dropboxusercontent.com/cd/0/inline/AvlsAHx10ZyKWYfwnJKtr2WR8KsRMW8sW11WFaTNtvraETipwj8IbwYG5hx-vqPeb3Oygi6UIufHJwbumOEs9Qbo5Omd9IFdOEM7qWWCYatDKW0j346MwL4pJpqIQq9GdUc/file\n",
            "Resolving uc5e048f535733c7dca7d7df55a1.dl.dropboxusercontent.com (uc5e048f535733c7dca7d7df55a1.dl.dropboxusercontent.com)... 162.125.8.6, 2620:100:601b:6::a27d:806\n",
            "Connecting to uc5e048f535733c7dca7d7df55a1.dl.dropboxusercontent.com (uc5e048f535733c7dca7d7df55a1.dl.dropboxusercontent.com)|162.125.8.6|:443... connected.\n",
            "HTTP request sent, awaiting response... 302 FOUND\n",
            "Location: /cd/0/inline2/AvnJgLoPuk3Uqswg_6Xl3U4Q0Ykb0n_SlC_lW3jActhqH4duIrAItCYQr1DuirYa4PXmJXjh4Kr0iEkvohz7JqTzsVrO1eVTynYg--bSRcvq6YkTCzkPuWdMl7PW0JERWY4h3if79PkEwoYyIBIWcfmADDE62ludHhJRP2VQoayfgoNfLCm2hKLPIn-uoZ3jCtUWHIhLPMqHogFn-lpjYaj_6X2f5MxPwNYHQ0m9c2W4y9937bLmL1rXUqUDZ8j2qKybilU4Bb0w8VQsd6belTdIpTj-4cYAVP9PLtc4ZTLBBB8SkUgEzjcjdV0NLyKMzyodzYNemZV1nO6nkxkHwgsPPGJs-lghCpkldGc_IHWgCQ/file [following]\n",
            "--2020-01-05 18:59:26--  https://uc5e048f535733c7dca7d7df55a1.dl.dropboxusercontent.com/cd/0/inline2/AvnJgLoPuk3Uqswg_6Xl3U4Q0Ykb0n_SlC_lW3jActhqH4duIrAItCYQr1DuirYa4PXmJXjh4Kr0iEkvohz7JqTzsVrO1eVTynYg--bSRcvq6YkTCzkPuWdMl7PW0JERWY4h3if79PkEwoYyIBIWcfmADDE62ludHhJRP2VQoayfgoNfLCm2hKLPIn-uoZ3jCtUWHIhLPMqHogFn-lpjYaj_6X2f5MxPwNYHQ0m9c2W4y9937bLmL1rXUqUDZ8j2qKybilU4Bb0w8VQsd6belTdIpTj-4cYAVP9PLtc4ZTLBBB8SkUgEzjcjdV0NLyKMzyodzYNemZV1nO6nkxkHwgsPPGJs-lghCpkldGc_IHWgCQ/file\n",
            "Reusing existing connection to uc5e048f535733c7dca7d7df55a1.dl.dropboxusercontent.com:443.\n",
            "HTTP request sent, awaiting response... 200 OK\n",
            "Length: 479769 (469K) [application/octet-stream]\n",
            "Saving to: ‘bollywood.bin?dl=0’\n",
            "\n",
            "\rbollywood.bin?dl=0    0%[                    ]       0  --.-KB/s               \rbollywood.bin?dl=0  100%[===================>] 468.52K  --.-KB/s    in 0.07s   \n",
            "\n",
            "2020-01-05 18:59:27 (6.61 MB/s) - ‘bollywood.bin?dl=0’ saved [479769/479769]\n",
            "\n"
          ],
          "name": "stdout"
        }
      ]
    },
    {
      "cell_type": "code",
      "metadata": {
        "id": "B-w_q_brC3I3",
        "colab_type": "code",
        "outputId": "bbcb12f9-8374-4e07-e488-dce5bf12cbff",
        "colab": {
          "base_uri": "https://localhost:8080/",
          "height": 170
        }
      },
      "source": [
        "!unzip bollywood.bin?dl=0"
      ],
      "execution_count": 0,
      "outputs": [
        {
          "output_type": "stream",
          "text": [
            "Archive:  bollywood.bin?dl=0\n",
            "  End-of-central-directory signature not found.  Either this file is not\n",
            "  a zipfile, or it constitutes one disk of a multi-part archive.  In the\n",
            "  latter case the central directory and zipfile comment will be found on\n",
            "  the last disk(s) of this archive.\n",
            "unzip:  cannot find zipfile directory in one of bollywood.bin?dl=0 or\n",
            "        bollywood.bin?dl=0.zip, and cannot find bollywood.bin?dl=0.ZIP, period.\n",
            "\n",
            "No zipfiles found.\n"
          ],
          "name": "stdout"
        }
      ]
    },
    {
      "cell_type": "code",
      "metadata": {
        "id": "zZsIRCgBFYE3",
        "colab_type": "code",
        "outputId": "c3253e05-9935-4b35-c57d-ae1211db337c",
        "colab": {
          "base_uri": "https://localhost:8080/",
          "height": 139
        }
      },
      "source": [
        "\n",
        "!ls\n",
        "#path2='/content/bollywood.bin?dl=0'\n",
        "\n",
        "word_vectors_kv = KeyedVectors.load_word2vec_format('/content/bollywood.bin?dl=0',binary=False)\n",
        "\n",
        "word_vectors = word_vectors_kv.wv\n",
        "\n",
        "\n"
      ],
      "execution_count": 0,
      "outputs": [
        {
          "output_type": "stream",
          "text": [
            "'bollywood.bin?dl=0'  'bollywood.rar?dl=0.1'   gdrive\n",
            "'bollywood.rar?dl=0'  'bollywood.txt?dl=0'     sample_data\n"
          ],
          "name": "stdout"
        },
        {
          "output_type": "stream",
          "text": [
            "/usr/local/lib/python3.6/dist-packages/smart_open/smart_open_lib.py:402: UserWarning: This function is deprecated, use smart_open.open instead. See the migration notes for details: https://github.com/RaRe-Technologies/smart_open/blob/master/README.rst#migrating-to-the-new-open-function\n",
            "  'See the migration notes for details: %s' % _MIGRATION_NOTES_URL\n",
            "/usr/local/lib/python3.6/dist-packages/ipykernel_launcher.py:7: DeprecationWarning: Call to deprecated `wv` (Attribute will be removed in 4.0.0, use self instead).\n",
            "  import sys\n"
          ],
          "name": "stderr"
        }
      ]
    },
    {
      "cell_type": "code",
      "metadata": {
        "id": "jio4r54nBejx",
        "colab_type": "code",
        "colab": {}
      },
      "source": [
        "actors = [\"ranveer\",\"deepika\",\"padukone\",\"singh\",\"nick\",\"jonas\",\"chopra\",\"priyanka\",\"virat\",\"anushka\",\"ginni\"]\n",
        "\n",
        "\n",
        "def predict_actor(a,b,c,word_vectors):\n",
        "    \"\"\"Accepts a triad of words, a,b,c and returns d such that a is to b : c is to d\"\"\"\n",
        "    a,b,c = a.lower(),b.lower(),c.lower()\n",
        "    max_similarity = -100 \n",
        "    \n",
        "    d = None\n",
        "    words = actors\n",
        "    \n",
        "    wa,wb,wc = word_vectors[a],word_vectors[b],word_vectors[c]\n",
        "    \n",
        "    #to find d s.t similarity(|b-a|,|d-c|) should be max\n",
        "    \n",
        "    for w in words:\n",
        "        if w in [a,b,c]:\n",
        "            continue\n",
        "        \n",
        "        wv = word_vectors[w]\n",
        "        sim = cosine_similarity([wb-wa],[wv-wc])\n",
        "        \n",
        "        if sim > max_similarity:\n",
        "            max_similarity = sim\n",
        "            d = w\n",
        "    return d    "
      ],
      "execution_count": 0,
      "outputs": []
    },
    {
      "cell_type": "markdown",
      "metadata": {
        "id": "mMh9s-fWCwMu",
        "colab_type": "text"
      },
      "source": [
        "### 4. Test your Model"
      ]
    },
    {
      "cell_type": "code",
      "metadata": {
        "id": "tgUw5N_xCjaO",
        "colab_type": "code",
        "outputId": "eb7adb45-0bfd-4d16-9dde-7e93b68c4373",
        "colab": {
          "base_uri": "https://localhost:8080/",
          "height": 34
        }
      },
      "source": [
        "triad = (\"nick\",\"priyanka\",\"virat\")\n",
        "predict_actor(*triad,word_vectors)"
      ],
      "execution_count": 0,
      "outputs": [
        {
          "output_type": "execute_result",
          "data": {
            "text/plain": [
              "'anushka'"
            ]
          },
          "metadata": {
            "tags": []
          },
          "execution_count": 91
        }
      ]
    },
    {
      "cell_type": "code",
      "metadata": {
        "id": "_1drkZ0OCzek",
        "colab_type": "code",
        "outputId": "fab5332f-2f77-4839-c038-43ffafeb9689",
        "colab": {
          "base_uri": "https://localhost:8080/",
          "height": 34
        }
      },
      "source": [
        "triad = (\"ranveer\",\"deepika\",\"priyanka\")\n",
        "predict_actor(*triad,word_vectors)"
      ],
      "execution_count": 0,
      "outputs": [
        {
          "output_type": "execute_result",
          "data": {
            "text/plain": [
              "'nick'"
            ]
          },
          "metadata": {
            "tags": []
          },
          "execution_count": 92
        }
      ]
    },
    {
      "cell_type": "code",
      "metadata": {
        "id": "SZrSVRoaKGKU",
        "colab_type": "code",
        "outputId": "0875e346-0c6d-4fda-b249-5d45b53aede4",
        "colab": {
          "base_uri": "https://localhost:8080/",
          "height": 71
        }
      },
      "source": [
        "model.wv.save_word2vec_format(\"/content/bollywood.bin?dl=0\")"
      ],
      "execution_count": 0,
      "outputs": [
        {
          "output_type": "stream",
          "text": [
            "/usr/local/lib/python3.6/dist-packages/smart_open/smart_open_lib.py:402: UserWarning: This function is deprecated, use smart_open.open instead. See the migration notes for details: https://github.com/RaRe-Technologies/smart_open/blob/master/README.rst#migrating-to-the-new-open-function\n",
            "  'See the migration notes for details: %s' % _MIGRATION_NOTES_URL\n"
          ],
          "name": "stderr"
        }
      ]
    },
    {
      "cell_type": "code",
      "metadata": {
        "id": "s_HGgryULNLM",
        "colab_type": "code",
        "colab": {}
      },
      "source": [
        ""
      ],
      "execution_count": 0,
      "outputs": []
    }
  ]
}